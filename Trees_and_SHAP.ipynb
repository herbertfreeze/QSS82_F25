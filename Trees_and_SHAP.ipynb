{
 "cells": [
  {
   "cell_type": "markdown",
   "id": "5bcf0ced-c736-48aa-a117-8df086ef9969",
   "metadata": {},
   "source": [
    "# Shap explainers and gradient-boosting trees"
   ]
  },
  {
   "cell_type": "code",
   "execution_count": 1,
   "id": "f86ceb35-5b13-41a0-a36d-e1c3203285f9",
   "metadata": {},
   "outputs": [],
   "source": [
    "from sklearn.model_selection import train_test_split\n",
    "import pandas as pd\n",
    "from catboost import CatBoostRegressor\n",
    "import shap"
   ]
  },
  {
   "cell_type": "code",
   "execution_count": null,
   "id": "d9a3d621-c4b7-454a-8c47-3bfdf78723b3",
   "metadata": {},
   "outputs": [],
   "source": [
    "import numpy as np\n",
    "import pandas as pd\n",
    "import matplotlib.pyplot as plt\n",
    "import seaborn as sns\n",
    "from sklearn.model_selection import train_test_split\n",
    "from sklearn.preprocessing import LabelEncoder\n",
    "from sklearn.tree import DecisionTreeClassifier\n",
    "from sklearn.ensemble import RandomForestClassifier\n",
    "from sklearn.metrics import accuracy_score, classification_report, confusion_matrix"
   ]
  },
  {
   "cell_type": "code",
   "execution_count": null,
   "id": "994a5e22-3a7d-4fe8-8e6b-d2aa16959343",
   "metadata": {},
   "outputs": [],
   "source": [
    "from sklearn import tree"
   ]
  },
  {
   "cell_type": "markdown",
   "id": "577d85f4",
   "metadata": {},
   "source": [
    "https://www.kaggle.com/competitions/house-prices-advanced-regression-techniques/rules"
   ]
  },
  {
   "cell_type": "code",
   "execution_count": 2,
   "id": "e3ca54be-2c89-4c4c-8daa-766b150c4b10",
   "metadata": {},
   "outputs": [
    {
     "ename": "NameError",
     "evalue": "name 'sns' is not defined",
     "output_type": "error",
     "traceback": [
      "\u001b[0;31m---------------------------------------------------------------------------\u001b[0m",
      "\u001b[0;31mNameError\u001b[0m                                 Traceback (most recent call last)",
      "Cell \u001b[0;32mIn[2], line 2\u001b[0m\n\u001b[1;32m      1\u001b[0m \u001b[38;5;66;03m# Load the Titanic dataset\u001b[39;00m\n\u001b[0;32m----> 2\u001b[0m titanic \u001b[38;5;241m=\u001b[39m \u001b[43msns\u001b[49m\u001b[38;5;241m.\u001b[39mload_dataset(\u001b[38;5;124m'\u001b[39m\u001b[38;5;124mtitanic\u001b[39m\u001b[38;5;124m'\u001b[39m)\n\u001b[1;32m      4\u001b[0m \u001b[38;5;66;03m# Fill missing age values with the median age\u001b[39;00m\n\u001b[1;32m      5\u001b[0m titanic[\u001b[38;5;124m'\u001b[39m\u001b[38;5;124mage\u001b[39m\u001b[38;5;124m'\u001b[39m]\u001b[38;5;241m.\u001b[39mfillna(titanic[\u001b[38;5;124m'\u001b[39m\u001b[38;5;124mage\u001b[39m\u001b[38;5;124m'\u001b[39m]\u001b[38;5;241m.\u001b[39mmedian(), inplace\u001b[38;5;241m=\u001b[39m\u001b[38;5;28;01mTrue\u001b[39;00m)\n",
      "\u001b[0;31mNameError\u001b[0m: name 'sns' is not defined"
     ]
    }
   ],
   "source": [
    "# Load the Titanic dataset\n",
    "titanic = sns.load_dataset('titanic')\n",
    "\n",
    "# Fill missing age values with the median age\n",
    "titanic['age'].fillna(titanic['age'].median(), inplace=True)\n",
    "\n",
    "# Drop 'deck' and 'embark_town' columns as they have many missing values\n",
    "titanic.drop(columns=['who', 'embarked', 'parch', 'fare', 'deck', 'embark_town', 'alive', 'class'], inplace=True)"
   ]
  },
  {
   "cell_type": "code",
   "execution_count": null,
   "id": "665e4d40-437b-459f-a31a-ca287226350d",
   "metadata": {},
   "outputs": [],
   "source": [
    "label_encoder = LabelEncoder()\n",
    "\n",
    "titanic['sex'] = label_encoder.fit_transform(titanic['sex'])  # Male: 1, Female: 0\n",
    "titanic['class'] = label_encoder.fit_transform(titanic['class'])  # 1st, 2nd, 3rd -> 0, 1, 2\n",
    "titanic['alone'] = label_encoder.fit_transform(titanic['alone'])"
   ]
  },
  {
   "cell_type": "code",
   "execution_count": null,
   "id": "a9046b2a-fd56-4bc0-922d-6a5c0028f12d",
   "metadata": {},
   "outputs": [],
   "source": [
    "# Define features (X) and target (y)\n",
    "X = titanic.drop(columns=['survived'])\n",
    "y = titanic['survived']\n",
    "\n",
    "# Split the data into training and test sets (80% train, 20% test)\n",
    "X_train, X_test, y_train, y_test = train_test_split(X, y, test_size=0.2, random_state=42)\n",
    "\n",
    "print(f'Training set shape: {X_train.shape}, Test set shape: {X_test.shape}')"
   ]
  },
  {
   "cell_type": "code",
   "execution_count": null,
   "id": "49c54b47-7e6a-4110-9bae-375cba8a63d4",
   "metadata": {},
   "outputs": [],
   "source": [
    "# Create and train the Decision Tree Classifier\n",
    "decision_tree = DecisionTreeClassifier(criterion='gini',\n",
    "                                       max_depth=3)\n",
    "decision_tree.fit(X_train, y_train)\n",
    "\n",
    "# Make predictions on the test set\n",
    "y_pred_dt = decision_tree.predict(X_test)"
   ]
  },
  {
   "cell_type": "code",
   "execution_count": null,
   "id": "da222f3a-8867-488d-9352-d1f7dcf5d660",
   "metadata": {},
   "outputs": [],
   "source": [
    "feature_names = X.columns"
   ]
  },
  {
   "cell_type": "code",
   "execution_count": null,
   "id": "f4709a84-9360-4dc8-ba38-d8dd7534fe47",
   "metadata": {},
   "outputs": [],
   "source": [
    "plt.figure(figsize=(20,10))\n",
    "tree.plot_tree(decision_tree, \n",
    "                   feature_names=feature_names,  \n",
    "                   class_names=[\"Survived\", \"Died\"],\n",
    "                   filled=True, max_depth=3,fontsize=20,\n",
    "      )\n",
    "print(\"\")"
   ]
  },
  {
   "cell_type": "code",
   "execution_count": null,
   "id": "059e413a-49c8-4bde-9f95-26f01bbdda56",
   "metadata": {},
   "outputs": [],
   "source": []
  },
  {
   "cell_type": "markdown",
   "id": "1489dc65-7a46-46a2-8dc1-3e88bef6f5da",
   "metadata": {},
   "source": [
    "# Numerical Example"
   ]
  },
  {
   "cell_type": "code",
   "execution_count": null,
   "id": "4bd2b1a9",
   "metadata": {},
   "outputs": [],
   "source": [
    "df = pd.read_csv(\"Data/train.csv\")\n",
    "df1 = numerical_df = df.select_dtypes(include=['number'])"
   ]
  },
  {
   "cell_type": "code",
   "execution_count": null,
   "id": "cf85a7df",
   "metadata": {},
   "outputs": [],
   "source": [
    "X = df1[df1.columns[:-1]]\n",
    "y = df1.SalePrice\n",
    "X_train, X_test, y_train, y_test = train_test_split(X, y, test_size=0.2, random_state=42)"
   ]
  },
  {
   "cell_type": "code",
   "execution_count": null,
   "id": "05ebce60",
   "metadata": {},
   "outputs": [],
   "source": [
    "# Initialize CatBoost Regressor\n",
    "catboost_model = CatBoostRegressor(iterations=100, learning_rate=0.1,\n",
    "                                   depth=6, verbose=0)\n",
    "\n",
    "# Train the model\n",
    "catboost_model.fit(X_train, y_train, \n",
    "                   eval_set=(X_test,y_test),\n",
    "                   plot=True)\n",
    "\n",
    "# Make predictions\n",
    "y_pred = catboost_model.predict(X_test)"
   ]
  },
  {
   "cell_type": "markdown",
   "id": "87c65e36-20ae-41f2-b80e-bd8ec423a159",
   "metadata": {},
   "source": [
    "# Shap analysis"
   ]
  },
  {
   "cell_type": "code",
   "execution_count": null,
   "id": "73f8ddf8",
   "metadata": {},
   "outputs": [],
   "source": [
    "# Explain predictions with SHAP\n",
    "explainer = shap.Explainer(catboost_model, X_train)\n",
    "shap_values = explainer(X_test)"
   ]
  },
  {
   "cell_type": "code",
   "execution_count": null,
   "id": "3dba0bf1",
   "metadata": {},
   "outputs": [],
   "source": [
    "# Summary plot\n",
    "shap.summary_plot(shap_values, X_test, max_display=5)"
   ]
  },
  {
   "cell_type": "code",
   "execution_count": null,
   "id": "d524f82c-27a8-4dbf-910d-0ea037a61d8f",
   "metadata": {},
   "outputs": [],
   "source": [
    "# Waterfall plot for a single observation\n",
    "shap.plots.waterfall(shap_values[0])"
   ]
  },
  {
   "cell_type": "code",
   "execution_count": null,
   "id": "d5fbc5e3-4115-4e15-87e1-a8321144a1a0",
   "metadata": {},
   "outputs": [],
   "source": [
    "shap.plots.bar(shap_values)"
   ]
  },
  {
   "cell_type": "markdown",
   "id": "8b36893e-3396-4051-9c37-ebd37f64ff75",
   "metadata": {},
   "source": [
    "More plots available: https://shap.readthedocs.io/en/latest/generated/shap.plots.bar.html"
   ]
  },
  {
   "cell_type": "markdown",
   "id": "3ce199d7-e2f1-4ca5-9d70-bb94f43172e6",
   "metadata": {},
   "source": [
    "## Your turn"
   ]
  },
  {
   "cell_type": "markdown",
   "id": "865991e6-0b06-4abd-8803-3c32e5e541f8",
   "metadata": {},
   "source": [
    "First, plot the correlation of the outputs with the actual home sale prices."
   ]
  },
  {
   "cell_type": "code",
   "execution_count": null,
   "id": "bad6f91a-b28f-4e61-9e27-4bbe926738ae",
   "metadata": {},
   "outputs": [],
   "source": []
  },
  {
   "cell_type": "code",
   "execution_count": null,
   "id": "c40c9149-01c1-4ed3-88a8-5cf3f43f11c9",
   "metadata": {},
   "outputs": [],
   "source": []
  },
  {
   "cell_type": "markdown",
   "id": "3437a982-3c8c-4859-b333-b283c357672f",
   "metadata": {},
   "source": [
    "## Next, add in the categorical variables then train a new CatBoost model. Run this through SHAP\n",
    "What do you observe? What are the top variables now?"
   ]
  },
  {
   "cell_type": "code",
   "execution_count": null,
   "id": "4af7897e-0cfd-44c3-ac93-388c7f5649ed",
   "metadata": {},
   "outputs": [],
   "source": []
  },
  {
   "cell_type": "code",
   "execution_count": null,
   "id": "3e056020-6901-495b-92ac-a91780279fec",
   "metadata": {},
   "outputs": [],
   "source": []
  },
  {
   "cell_type": "code",
   "execution_count": null,
   "id": "53276c51-fbc7-4561-91ee-dbef6a8503ab",
   "metadata": {},
   "outputs": [],
   "source": []
  },
  {
   "cell_type": "code",
   "execution_count": null,
   "id": "f48041e8",
   "metadata": {},
   "outputs": [],
   "source": []
  }
 ],
 "metadata": {
  "kernelspec": {
   "display_name": "Python 3 (ipykernel)",
   "language": "python",
   "name": "python3"
  },
  "language_info": {
   "codemirror_mode": {
    "name": "ipython",
    "version": 3
   },
   "file_extension": ".py",
   "mimetype": "text/x-python",
   "name": "python",
   "nbconvert_exporter": "python",
   "pygments_lexer": "ipython3",
   "version": "3.10.18"
  }
 },
 "nbformat": 4,
 "nbformat_minor": 5
}
