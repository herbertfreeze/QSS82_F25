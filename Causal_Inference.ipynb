{
 "cells": [
  {
   "cell_type": "code",
   "execution_count": null,
   "id": "dd29b84d-a479-4f6a-b17b-8418f3a28a8b",
   "metadata": {},
   "outputs": [],
   "source": [
    "import numpy as np\n",
    "import pandas as pd\n",
    "import matplotlib.pyplot as plt\n",
    "import statsmodels.api as sm\n",
    "from statsmodels.formula.api import ols\n",
    "import statsmodels.formula.api as smf"
   ]
  },
  {
   "cell_type": "markdown",
   "id": "19d66354-4f30-48ac-9ca2-bc74c8013f31",
   "metadata": {},
   "source": [
    "## Difference-in-difference (DID)\n",
    "- DID (real panel): AER::Fatalities\n",
    "-     Outcome: traffic fatality rate per 10,000 pop\n",
    "-     Policy (simple): “drinkage >= 21” indicator (raised drinking age)"
   ]
  },
  {
   "cell_type": "code",
   "execution_count": null,
   "id": "802aedf3-d010-4bd1-8b42-2b172b23188b",
   "metadata": {},
   "outputs": [],
   "source": [
    "fatal = sm.datasets.get_rdataset(\"Fatalities\", package=\"AER\").data\n",
    "\n",
    "# Make outcome = fatalities per 10,000 population\n",
    "fatal[\"frate\"] = fatal[\"fatal\"] / fatal[\"pop\"] * 10000\n",
    "\n",
    "# Simple policy indicator: treated when legal drinking age reaches 21\n",
    "fatal[\"policy\"] = (fatal[\"drinkage\"] >= 21).astype(int)"
   ]
  },
  {
   "cell_type": "code",
   "execution_count": null,
   "id": "1c39e62e-1cd4-45dc-9ffb-693d081bae49",
   "metadata": {
    "scrolled": true
   },
   "outputs": [],
   "source": [
    "# Keep only needed columns\n",
    "fatal = fatal[[\"state\", \"year\", \"frate\", \"policy\"]].dropna()\n",
    "fatal[\"state\"] = fatal[\"state\"].astype(str)\n",
    "fatal[\"year\"] = fatal[\"year\"].astype(int)\n",
    "\n",
    "fatal"
   ]
  },
  {
   "cell_type": "code",
   "execution_count": null,
   "id": "bf33e9fa-d501-4689-9113-252b925dc429",
   "metadata": {},
   "outputs": [],
   "source": [
    "# (A) Minimal DID plot: average frate by year and policy status\n",
    "avg = fatal.groupby([\"year\", \"policy\"])[\"frate\"].mean().reset_index()\n",
    "fig, ax = plt.subplots()\n",
    "\n",
    "for d, g in avg.groupby(\"policy\"):\n",
    "    ax.plot(g[\"year\"], g[\"frate\"], marker=\"o\", label=f\"policy={d}\")\n",
    "\n",
    "ax.set_title(\"DID sketch: Fatality rate by policy status over time\")\n",
    "ax.set_xlabel(\"Year\")\n",
    "ax.set_ylabel(\"Fatalities per 10,000\")\n",
    "ax.legend()\n",
    "\n",
    "plt.vlines(1985,1.9,3.2, color=\"r\")\n",
    "plt.show()"
   ]
  },
  {
   "cell_type": "code",
   "execution_count": null,
   "id": "a814523c-e136-496e-bc10-23fe32cfcb46",
   "metadata": {},
   "outputs": [],
   "source": [
    "# (B) Minimal DID regression: TWFE (state & year fixed effects) with cluster SEs by state\n",
    "# Formula form with dummies for state/year:\n",
    "did_fit = ols(\"frate ~ policy + C(state) + C(year)\", data=fatal).fit(\n",
    "    cov_type=\"cluster\", cov_kwds={\"groups\": fatal[\"state\"]}\n",
    ")\n",
    "print(\"\\n=== DID: TWFE with cluster-robust SEs by state ===\")\n",
    "print(did_fit.summary().tables[1])\n",
    "print(\"\\nInterpretation: 'policy' is the DID estimate under parallel trends.\\n\")"
   ]
  },
  {
   "cell_type": "code",
   "execution_count": null,
   "id": "90919ad0-cb60-45a6-b1e2-874921fb72f5",
   "metadata": {},
   "outputs": [],
   "source": []
  },
  {
   "cell_type": "markdown",
   "id": "fbfd4eb0-7289-4508-83d6-10d5178f481b",
   "metadata": {},
   "source": [
    "# Regression Discontinuity Analysis"
   ]
  },
  {
   "cell_type": "markdown",
   "id": "88b8f8f9-36c5-45a3-816e-1a11b135d889",
   "metadata": {},
   "source": [
    "### First make some fake data"
   ]
  },
  {
   "cell_type": "code",
   "execution_count": null,
   "id": "a02db1c8-5fe8-4e0e-bb2b-711a3d9ffc5d",
   "metadata": {},
   "outputs": [],
   "source": [
    "# --- Simulate data ---\n",
    "n = 1000\n",
    "X = np.random.uniform(0, 100, n)          # running variable\n",
    "cutoff = 50                               # treatment threshold\n",
    "D = (X >= cutoff).astype(int)             # treatment indicator\n",
    "\n",
    "# Smooth outcome trend + treatment jump + random noise\n",
    "Y = 0.5 * X + 10*D + np.random.normal(0, 5, n)\n",
    "\n",
    "data = pd.DataFrame({\"Y\": Y, \"X\": X, \"D\": D})"
   ]
  },
  {
   "cell_type": "code",
   "execution_count": null,
   "id": "098b4a38-3053-488e-9345-0ed8baa94feb",
   "metadata": {},
   "outputs": [],
   "source": [
    "plt.scatter(X, Y, alpha=0.3, label=\"Data\")\n",
    "plt.axvline(cutoff, color=\"red\", linestyle=\"--\", label=\"Cutoff (c=50)\")\n",
    "plt.xlabel(\"Running variable (X)\")\n",
    "plt.ylabel(\"Outcome (Y)\")\n",
    "plt.title(\"Regression Discontinuity: Simulated Data\")\n",
    "plt.legend()"
   ]
  },
  {
   "cell_type": "code",
   "execution_count": null,
   "id": "c0bbb43a-2b41-43c6-bc65-7b1d4f456ac6",
   "metadata": {},
   "outputs": [],
   "source": [
    "# --- 4. Local linear regression around cutoff ---\n",
    "bandwidth = 10\n",
    "\n",
    "# Keep only observations close to the cutoff (±10 points)\n",
    "subset = data[(data[\"X\"] > cutoff - bandwidth) & (data[\"X\"] < cutoff + bandwidth)].copy()\n",
    "\n",
    "# Center X around the cutoff\n",
    "subset[\"X_centered\"] = subset[\"X\"] - cutoff\n",
    "\n",
    "# Fit local linear model with different slopes on each side\n",
    "model = smf.ols(\"Y ~ D + X_centered + D:X_centered\", data=subset).fit()\n",
    "\n",
    "print(model.summary())\n",
    "\n",
    "x_grid = np.linspace(cutoff - bandwidth, cutoff + bandwidth, 200)\n",
    "df_pred = pd.DataFrame({\"X\": x_grid})\n",
    "df_pred[\"D\"] = (df_pred[\"X\"] >= cutoff).astype(int)\n",
    "df_pred[\"X_centered\"] = df_pred[\"X\"] - cutoff\n",
    "df_pred[\"Y_pred\"] = model.predict(df_pred)"
   ]
  },
  {
   "cell_type": "code",
   "execution_count": null,
   "id": "270a806e-7104-4745-aed8-f2a240c3780b",
   "metadata": {},
   "outputs": [],
   "source": [
    "plt.figure(figsize=(8,5))\n",
    "plt.scatter(subset[\"X\"], subset[\"Y\"], alpha=0.4, label=\"Data (within bandwidth)\")\n",
    "plt.plot(df_pred[\"X\"], df_pred[\"Y_pred\"], color=\"black\", lw=2, label=\"Fitted lines\")\n",
    "plt.axvline(cutoff, color=\"red\", linestyle=\"--\", lw=2, label=f\"Cutoff = {cutoff}\")\n",
    "plt.xlabel(\"Running variable (X)\")\n",
    "plt.ylabel(\"Outcome (Y)\")\n",
    "plt.title(\"Regression Discontinuity (Local Linear Fit)\")\n",
    "plt.legend()\n",
    "plt.show()"
   ]
  },
  {
   "cell_type": "code",
   "execution_count": null,
   "id": "0d9adbd9-350e-4fd8-a670-02232b440405",
   "metadata": {},
   "outputs": [],
   "source": [
    "tau = model.params[\"D\"]\n",
    "print(f\"\\nEstimated treatment effect (jump at cutoff): {tau:.2f}\")"
   ]
  },
  {
   "cell_type": "code",
   "execution_count": null,
   "id": "f390ea32-123e-4ae4-88c3-48fdc95b254d",
   "metadata": {},
   "outputs": [],
   "source": []
  },
  {
   "cell_type": "code",
   "execution_count": null,
   "id": "53bb8330-b3c9-46dd-997c-b656455bf159",
   "metadata": {},
   "outputs": [],
   "source": []
  },
  {
   "cell_type": "code",
   "execution_count": null,
   "id": "26c65854-3ac2-47d6-9c63-474ce15986ba",
   "metadata": {},
   "outputs": [],
   "source": []
  }
 ],
 "metadata": {
  "kernelspec": {
   "display_name": "Python 3 (ipykernel)",
   "language": "python",
   "name": "python3"
  },
  "language_info": {
   "codemirror_mode": {
    "name": "ipython",
    "version": 3
   },
   "file_extension": ".py",
   "mimetype": "text/x-python",
   "name": "python",
   "nbconvert_exporter": "python",
   "pygments_lexer": "ipython3",
   "version": "3.10.19"
  }
 },
 "nbformat": 4,
 "nbformat_minor": 5
}
